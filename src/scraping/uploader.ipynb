{
 "metadata": {
  "language_info": {
   "codemirror_mode": {
    "name": "ipython",
    "version": 3
   },
   "file_extension": ".py",
   "mimetype": "text/x-python",
   "name": "python",
   "nbconvert_exporter": "python",
   "pygments_lexer": "ipython3",
   "version": "3.8.3-final"
  },
  "orig_nbformat": 2,
  "kernelspec": {
   "name": "python38364bitbasecondaf64df65f8fc24e9fa1a2d1db350ec619",
   "display_name": "Python 3.8.3 64-bit ('base': conda)"
  }
 },
 "nbformat": 4,
 "nbformat_minor": 2,
 "cells": [
  {
   "cell_type": "code",
   "execution_count": 1,
   "metadata": {},
   "outputs": [],
   "source": [
    "import pandas as pd\n",
    "import numpy as np\n",
    "import cx_Oracle as oracle\n",
    "\n",
    "drugs = pd.read_csv(r\"drugs.csv\")\n",
    "pharmacies = pd.read_csv(r\"pharmacies.csv\")\n",
    "drugs_to_ph = pd.read_csv(r\"drugs_to_ph.csv\")\n",
    "drugs_analogs = pd.read_csv(r\"drugs_analogs.csv\")\n",
    "\n",
    "pharmacies = pharmacies.replace({np.nan: None})\n",
    "drugs = drugs.replace({np.nan: None})\n",
    "drugs[\"status\"] = drugs[\"status\"].apply(lambda x: \"no_recipe\" if x == \"Без рецепта\" else \"recipe\")\n",
    "drugs_to_ph = drugs_to_ph.replace({np.nan: None})\n",
    "drugs_analogs = drugs_analogs.replace({np.nan: None})"
   ]
  },
  {
   "cell_type": "code",
   "execution_count": 2,
   "metadata": {},
   "outputs": [],
   "source": [
    "def run(code):\n",
    "    connection = None\n",
    "    try:\n",
    "        connection = oracle.connect(\n",
    "            \"super_user\",\n",
    "            \"super_secret\",\n",
    "            \"med-share.ryspekov.life:1521/xe\",\n",
    "            encoding=\"UTF-8\"\n",
    "        )\n",
    "        return code(connection)\n",
    "    except oracle.Error as e:\n",
    "        print(e)\n",
    "    finally:\n",
    "        if connection:\n",
    "            connection.rollback()\n",
    "            connection.close()"
   ]
  },
  {
   "cell_type": "code",
   "execution_count": 3,
   "metadata": {},
   "outputs": [],
   "source": [
    "def add_pharmacies(conn):\n",
    "    cur = conn.cursor()\n",
    "    arr = [tuple(x) for x in pharmacies.values]\n",
    "    cur.executemany(\"insert into pharmacies values(:1, :2, :3, :4, :5, :6)\", arr, batcherrors=True)\n",
    "    for error in cur.getbatcherrors():\n",
    "        print(\"Error\", error.message, \"at row offset\", error.offset)\n",
    "    conn.commit()\n",
    "run(add_pharmacies)"
   ]
  },
  {
   "cell_type": "code",
   "execution_count": 4,
   "metadata": {},
   "outputs": [],
   "source": [
    "def add_drugs(conn):\n",
    "    cur = conn.cursor()\n",
    "    arr = [tuple(x) for x in drugs[[\"key\", \"title\", \"status\"]].values]\n",
    "    cur.executemany(\"insert into drugs values(:1, :2, :3)\", arr, batcherrors=True)\n",
    "    for error in cur.getbatcherrors():\n",
    "        print(\"Error\", error.message, \"at row offset\", error.offset)\n",
    "    conn.commit()\n",
    "run(add_drugs)"
   ]
  },
  {
   "cell_type": "code",
   "execution_count": 5,
   "metadata": {},
   "outputs": [],
   "source": [
    "def add_drugs_to_ph(conn):\n",
    "    cur = conn.cursor()\n",
    "    arr = [tuple(x) for x in drugs_to_ph.values]\n",
    "    cur.executemany(\"insert into drugs_to_ph values(:1, :2, :3, :4)\", arr, batcherrors=True)\n",
    "    for error in cur.getbatcherrors():\n",
    "        print(\"Error\", error.message, \"at row offset\", error.offset)\n",
    "    conn.commit()\n",
    "run(add_drugs_to_ph)"
   ]
  },
  {
   "cell_type": "code",
   "execution_count": 6,
   "metadata": {},
   "outputs": [],
   "source": [
    "def add_drugs_analogs(conn):\n",
    "    cur = conn.cursor()\n",
    "    arr = [(int(x[0]), int(x[1]), int(x[2])) for x in drugs_analogs.values]\n",
    "    cur.executemany(\"insert into drugs_analogs values(:1, :2, :3)\", arr, batcherrors=True)\n",
    "    for error in cur.getbatcherrors():\n",
    "        print(\"Error\", error.message, \"at row offset\", error.offset)\n",
    "    conn.commit()\n",
    "run(add_drugs_analogs)"
   ]
  }
 ]
}