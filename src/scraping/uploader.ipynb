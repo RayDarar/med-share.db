{
 "metadata": {
  "language_info": {
   "codemirror_mode": {
    "name": "ipython",
    "version": 3
   },
   "file_extension": ".py",
   "mimetype": "text/x-python",
   "name": "python",
   "nbconvert_exporter": "python",
   "pygments_lexer": "ipython3",
   "version": "3.8.3-final"
  },
  "orig_nbformat": 2,
  "kernelspec": {
   "name": "python38364bitbasecondaf64df65f8fc24e9fa1a2d1db350ec619",
   "display_name": "Python 3.8.3 64-bit ('base': conda)"
  }
 },
 "nbformat": 4,
 "nbformat_minor": 2,
 "cells": [
  {
   "cell_type": "code",
   "execution_count": 1,
   "metadata": {},
   "outputs": [],
   "source": [
    "import pandas as pd\n",
    "import cx_Oracle as oracle\n",
    "\n",
    "drugs = pd.read_csv(r\"drugs.csv\")\n",
    "pharmacies = pd.read_csv(r\"pharmacies.csv\")\n",
    "drugs_to_ph = pd.read_csv(r\"drugs_to_ph.csv\")\n",
    "drugs_analogs = pd.read_csv(r\"drugs_analogs.csv\")"
   ]
  },
  {
   "cell_type": "code",
   "execution_count": 2,
   "metadata": {},
   "outputs": [],
   "source": [
    "def getConnection():\n",
    "    try:\n",
    "        return oracle.connect(\n",
    "            \"sys\",\n",
    "            \"Oracle18\",\n",
    "            \"med-share.ryspekov.life:1521/xe\",\n",
    "            encoding=\"UTF-8\",\n",
    "            mode=oracle.SYSDBA\n",
    "        )\n",
    "    except oracle.Error as e:\n",
    "        print(e)"
   ]
  }
 ]
}